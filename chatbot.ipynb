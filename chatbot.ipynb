{
 "cells": [
  {
   "cell_type": "code",
   "execution_count": 8,
   "id": "8540e7ae-82ce-4822-bdc6-3afbfb3dfa03",
   "metadata": {},
   "outputs": [
    {
     "name": "stdin",
     "output_type": "stream",
     "text": [
      "You:  hello\n"
     ]
    },
    {
     "name": "stdout",
     "output_type": "stream",
     "text": [
      "Chatbot: Hello! How can I help you today?\n"
     ]
    },
    {
     "name": "stdin",
     "output_type": "stream",
     "text": [
      "You:  your name \n"
     ]
    },
    {
     "name": "stdout",
     "output_type": "stream",
     "text": [
      "Chatbot: I'm a simple chatbot created to assist you!\n"
     ]
    },
    {
     "name": "stdin",
     "output_type": "stream",
     "text": [
      "You:  what is codsoft\n"
     ]
    },
    {
     "name": "stdout",
     "output_type": "stream",
     "text": [
      "Chatbot: CodSoft appears to be the name of a company, organization, or program, likely focused on software development, coding, or related technology fields. The name CodSoft could be a combination of Code (referring to programming or software development) and Soft (short for software), suggesting that the organization is involved in creating software or providing coding services, training, or education\n"
     ]
    },
    {
     "name": "stdin",
     "output_type": "stream",
     "text": [
      "You:  what should we gain by doing internship in codsoft\n"
     ]
    },
    {
     "name": "stdout",
     "output_type": "stream",
     "text": [
      "Chatbot: An internship at CodSoft provides a valuable learning experience where you can gain practical knowledge in your field\n"
     ]
    },
    {
     "name": "stdin",
     "output_type": "stream",
     "text": [
      "You:  where we can enhance our skills\n"
     ]
    },
    {
     "name": "stdout",
     "output_type": "stream",
     "text": [
      "Chatbot: :we can enhance our skills in areas such as coding, problem-solving, teamwork, and communication\n"
     ]
    },
    {
     "name": "stdin",
     "output_type": "stream",
     "text": [
      "You:  exit\n"
     ]
    },
    {
     "name": "stdout",
     "output_type": "stream",
     "text": [
      "Chatbot: Goodbye!\n"
     ]
    }
   ],
   "source": [
    "def chatbot_response(user_input):\n",
    "    user_input = user_input.lower()\n",
    "    if \"hello\" in user_input:\n",
    "        return \"Hello! How can I help you today?\"\n",
    "    elif \"how are you\" in user_input:\n",
    "        return \"I'm just a bot, but I'm doing great! How about you?\"\n",
    "    elif \"your name\" in user_input:\n",
    "        return \"I'm a simple chatbot created to assist you!\"\n",
    "    elif \"bye\" in user_input:\n",
    "        return \"Goodbye! Have a great day!\"\n",
    "    elif \"what is codsoft\" in user_input:\n",
    "        return \"CodSoft appears to be the name of a company, organization, or program, likely focused on software development, coding, or related technology fields. The name CodSoft could be a combination of Code (referring to programming or software development) and Soft (short for software), suggesting that the organization is involved in creating software or providing coding services, training, or education\"\n",
    "    elif \"what should we gain by doing internship in codsoft\" in user_input:\n",
    "        return \"An internship at CodSoft provides a valuable learning experience where you can gain practical knowledge in your field\"\n",
    "    elif \"where we can enhance our skills\" in user_input:\n",
    "        return \":we can enhance our skills in areas such as coding, problem-solving, teamwork, and communication\"\n",
    "    else:\n",
    "        return \"I'm sorry, I don't understand that. Can you please rephrase?\n",
    "while True:\n",
    "    user_input = input(\"You: \")\n",
    "    if user_input.lower() == \"exit\":\n",
    "        print(\"Chatbot: Goodbye!\")\n",
    "        break\n",
    "    response = chatbot_response(user_input)\n",
    "    print(\"Chatbot:\", response)\n"
   ]
  }
 ],
 "metadata": {
  "kernelspec": {
   "display_name": "Python 3 (ipykernel)",
   "language": "python",
   "name": "python3"
  },
  "language_info": {
   "codemirror_mode": {
    "name": "ipython",
    "version": 3
   },
   "file_extension": ".py",
   "mimetype": "text/x-python",
   "name": "python",
   "nbconvert_exporter": "python",
   "pygments_lexer": "ipython3",
   "version": "3.11.7"
  }
 },
 "nbformat": 4,
 "nbformat_minor": 5
}
