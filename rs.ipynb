{
 "cells": [
  {
   "cell_type": "code",
   "execution_count": 18,
   "id": "f48d3e90-5aa1-4073-af43-07607e857c68",
   "metadata": {},
   "outputs": [
    {
     "name": "stdout",
     "output_type": "stream",
     "text": [
      "Please rate the following movies (1-5). If you haven't seen the movie, leave it blank.\n"
     ]
    },
    {
     "name": "stdin",
     "output_type": "stream",
     "text": [
      "Inception:  \n",
      "The Dark Knight:  \n",
      "The Godfather:  \n",
      "The Matrix:  \n",
      "Titanic:  \n"
     ]
    },
    {
     "name": "stdout",
     "output_type": "stream",
     "text": [
      "No ratings provided. Unable to make recommendations.\n"
     ]
    }
   ],
   "source": [
    "import pandas as pd\n",
    "from sklearn.metrics.pairwise import cosine_similarity\n",
    "\n",
    "data = {\n",
    "    'UserID': [1, 1, 1, 2, 2, 2, 3, 3, 3],\n",
    "    'Movie': ['The Matrix', 'Titanic', 'Inception', 'The Matrix', 'Titanic', 'The Godfather', 'Inception', 'The Godfather', 'The Dark Knight'],\n",
    "    'Rating': [5, 4, 5, 4, 5, 5, 4, 5, 5]\n",
    "}\n",
    "df = pd.DataFrame(data)\n",
    "\n",
    "user_item_matrix = df.pivot_table(index='UserID', columns='Movie', values='Rating')\n",
    "\n",
    "user_item_matrix_filled = user_item_matrix.fillna(0)\n",
    "item_similarity = cosine_similarity(user_item_matrix_filled.T)\n",
    "item_similarity_df = pd.DataFrame(item_similarity, index=user_item_matrix.columns, columns=user_item_matrix.columns)\n",
    "\n",
    "def get_user_ratings():\n",
    "    print(\"Please rate the following movies (1-5). If you haven't seen the movie, leave it blank.\")\n",
    "    movies = user_item_matrix.columns.tolist()\n",
    "    user_ratings = {}\n",
    "\n",
    "    for movie in movies:\n",
    "        try:\n",
    "            rating = input(f\"{movie}: \")\n",
    "            if rating != \"\":\n",
    "                user_ratings[movie] = float(rating)\n",
    "        except ValueError:\n",
    "            print(\"Invalid input. Please enter a number between 1 and 5.\")\n",
    "\n",
    "    return pd.Series(user_ratings)\n",
    "\n",
    "def recommend_movies_from_input(user_ratings, num_recommendations=2):\n",
    "    similar_movies = pd.Series(dtype=float)\n",
    "    \n",
    "    for movie, rating in user_ratings.items():\n",
    "        similar_movies = pd.concat([similar_movies, item_similarity_df[movie]])\n",
    "        \n",
    "    similar_movies = similar_movies.groupby(similar_movies.index).mean()\n",
    "    recommended_movies = similar_movies.sort_values(ascending=False).drop(user_ratings.index)\n",
    "    \n",
    "    return recommended_movies.head(num_recommendations)\n",
    "\n",
    "if __name__ == \"__main__\":\n",
    "    user_ratings = get_user_ratings()\n",
    "    if user_ratings.empty:\n",
    "        print(\"No ratings provided. Unable to make recommendations.\")\n",
    "    else:\n",
    "        recommendations = recommend_movies_from_input(user_ratings)\n",
    "        print(\"\\nRecommended Movies for You:\\n\", recommendations)\n"
   ]
  }
 ],
 "metadata": {
  "kernelspec": {
   "display_name": "Python 3 (ipykernel)",
   "language": "python",
   "name": "python3"
  },
  "language_info": {
   "codemirror_mode": {
    "name": "ipython",
    "version": 3
   },
   "file_extension": ".py",
   "mimetype": "text/x-python",
   "name": "python",
   "nbconvert_exporter": "python",
   "pygments_lexer": "ipython3",
   "version": "3.11.7"
  }
 },
 "nbformat": 4,
 "nbformat_minor": 5
}
