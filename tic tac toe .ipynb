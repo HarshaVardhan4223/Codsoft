{
 "cells": [
  {
   "cell_type": "code",
   "execution_count": 15,
   "id": "d32f167f-8042-4e5c-8fc3-da130b3590fe",
   "metadata": {},
   "outputs": [
    {
     "name": "stdout",
     "output_type": "stream",
     "text": [
      " | | \n",
      "---------\n",
      " | | \n",
      "---------\n",
      " | | \n",
      "---------\n"
     ]
    }
   ],
   "source": [
    "import math\n",
    "def print_board(board):\n",
    "    for row in board:\n",
    "        print(\"|\".join(row))\n",
    "        print(\"-\" * 9)\n",
    "board = [[\" \" for _ in range(3)] for _ in range(3)]\n",
    "print_board(board)\n"
   ]
  },
  {
   "cell_type": "code",
   "execution_count": 16,
   "id": "b73e5520-c2b4-4cd4-943c-3bbd97f27f58",
   "metadata": {},
   "outputs": [],
   "source": [
    "def WinnerChecking(board):\n",
    "    for row in board:\n",
    "        if row[0] == row[1] == row[2] != \" \":\n",
    "            return row[0]\n",
    "    for col in range(3):\n",
    "        if board[0][col] == board[1][col] == board[2][col] != \" \":\n",
    "            return board[0][col]\n",
    "    if board[0][0] == board[1][1] == board[2][2] != \" \":\n",
    "        return board[0][0]\n",
    "    if board[0][2] == board[1][1] == board[2][0] != \" \":\n",
    "        return board[0][2]\n",
    "    return None if any(\" \" in row for row in board) else \"Draw\"\n"
   ]
  },
  {
   "cell_type": "code",
   "execution_count": 20,
   "id": "ab5c1f29-278b-41f4-bcf7-b63ef33e39f1",
   "metadata": {},
   "outputs": [],
   "source": [
    "def minimax(board, depth, is_maximizing):\n",
    "    winner = check_winner(board)\n",
    "    if winner == \"X\":\n",
    "        return -1\n",
    "    elif winner == \"O\":\n",
    "        return 1\n",
    "    elif winner == \"Draw\":\n",
    "        return 0\n",
    "    if is_maximizing:\n",
    "        best_score = -math.inf\n",
    "        for i in range(3):\n",
    "            for j in range(3):\n",
    "                if board[i][j] == \" \":\n",
    "                    board[i][j] = \"O\"\n",
    "                    score = minimax(board, depth + 1, False)\n",
    "                    board[i][j] = \" \"\n",
    "                    best_score = max(score, best_score)\n",
    "        return best_score\n",
    "    else:\n",
    "        best_score = math.inf\n",
    "        for i in range(3):\n",
    "            for j in range(3):\n",
    "                if board[i][j] == \" \":\n",
    "                    board[i][j] = \"X\"\n",
    "                    score = minimax(board, depth + 1, True)\n",
    "                    board[i][j] = \" \"\n",
    "                    best_score = min(score, best_score)\n",
    "        return best_score\n"
   ]
  },
  {
   "cell_type": "code",
   "execution_count": 23,
   "id": "5a84e333-8342-4ea4-8fac-4878e19a259f",
   "metadata": {},
   "outputs": [],
   "source": [
    "def best_move(board):\n",
    "    best_score = -math.inf\n",
    "    move = None\n",
    "    for i in range(3):\n",
    "        for j in range(3):\n",
    "            if board[i][j] == \" \":\n",
    "                board[i][j] = \"O\"\n",
    "                score = minimax(board, 0, False)\n",
    "                board[i][j] = \" \"\n",
    "                if score > best_score:\n",
    "                    best_score = score\n",
    "                    move = (i, j)\n",
    "    return move\n"
   ]
  },
  {
   "cell_type": "code",
   "execution_count": 24,
   "id": "4755ba35-eb62-41e7-b383-85d4abf52dda",
   "metadata": {},
   "outputs": [
    {
     "name": "stdout",
     "output_type": "stream",
     "text": [
      " | | \n",
      "---------\n",
      " | | \n",
      "---------\n",
      " | | \n",
      "---------\n"
     ]
    },
    {
     "name": "stdin",
     "output_type": "stream",
     "text": [
      "Enter row (0-2):  1\n",
      "Enter column (0-2):  2\n"
     ]
    },
    {
     "name": "stdout",
     "output_type": "stream",
     "text": [
      " | | \n",
      "---------\n",
      " | |X\n",
      "---------\n",
      " | | \n",
      "---------\n",
      " | |O\n",
      "---------\n",
      " | |X\n",
      "---------\n",
      " | | \n",
      "---------\n"
     ]
    },
    {
     "name": "stdin",
     "output_type": "stream",
     "text": [
      "Enter row (0-2):  2\n",
      "Enter column (0-2):  1\n"
     ]
    },
    {
     "name": "stdout",
     "output_type": "stream",
     "text": [
      " | |O\n",
      "---------\n",
      " | |X\n",
      "---------\n",
      " |X| \n",
      "---------\n",
      "O| |O\n",
      "---------\n",
      " | |X\n",
      "---------\n",
      " |X| \n",
      "---------\n"
     ]
    },
    {
     "name": "stdin",
     "output_type": "stream",
     "text": [
      "Enter row (0-2):  0\n",
      "Enter column (0-2):  1\n"
     ]
    },
    {
     "name": "stdout",
     "output_type": "stream",
     "text": [
      "O|X|O\n",
      "---------\n",
      " | |X\n",
      "---------\n",
      " |X| \n",
      "---------\n",
      "O|X|O\n",
      "---------\n",
      " |O|X\n",
      "---------\n",
      " |X| \n",
      "---------\n"
     ]
    },
    {
     "name": "stdin",
     "output_type": "stream",
     "text": [
      "Enter row (0-2):  2\n",
      "Enter column (0-2):  2\n"
     ]
    },
    {
     "name": "stdout",
     "output_type": "stream",
     "text": [
      "O|X|O\n",
      "---------\n",
      " |O|X\n",
      "---------\n",
      " |X|X\n",
      "---------\n",
      "O|X|O\n",
      "---------\n",
      " |O|X\n",
      "---------\n",
      "O|X|X\n",
      "---------\n",
      "O wins!\n"
     ]
    }
   ],
   "source": [
    "def play_game():\n",
    "    current_player = \"X\"\n",
    "    while True:\n",
    "        print_board(board)\n",
    "        if current_player == \"X\":\n",
    "            row = int(input(\"Enter row (0-2): \"))\n",
    "            col = int(input(\"Enter column (0-2): \"))\n",
    "            if board[row][col] == \" \":\n",
    "                board[row][col] = \"X\"\n",
    "                current_player = \"O\"\n",
    "        else:\n",
    "            move = best_move(board)\n",
    "            if move:\n",
    "                board[move[0]][move[1]] = \"O\"\n",
    "                current_player = \"X\"\n",
    "\n",
    "        winner = check_winner(board)\n",
    "        if winner:\n",
    "            print_board(board)\n",
    "            if winner == \"Draw\":\n",
    "                print(\"It's a draw!\")\n",
    "            else:\n",
    "                print(f\"{winner} wins!\")\n",
    "            break\n",
    "play_game()\n"
   ]
  }
 ],
 "metadata": {
  "kernelspec": {
   "display_name": "Python 3 (ipykernel)",
   "language": "python",
   "name": "python3"
  },
  "language_info": {
   "codemirror_mode": {
    "name": "ipython",
    "version": 3
   },
   "file_extension": ".py",
   "mimetype": "text/x-python",
   "name": "python",
   "nbconvert_exporter": "python",
   "pygments_lexer": "ipython3",
   "version": "3.11.7"
  }
 },
 "nbformat": 4,
 "nbformat_minor": 5
}
